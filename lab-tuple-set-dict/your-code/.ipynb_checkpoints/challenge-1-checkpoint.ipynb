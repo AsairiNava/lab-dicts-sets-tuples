{
 "cells": [
  {
   "cell_type": "markdown",
   "metadata": {},
   "source": [
    "## Challenge 1: Tuples\n",
    "\n",
    "#### Do you know you can create tuples with only one element?\n",
    "\n",
    "**In the cell below, define a variable `tup` with a single element `\"I\"`.**\n",
    "\n",
    "*Hint: you need to add a comma (`,`) after the single element.*"
   ]
  },
  {
   "cell_type": "code",
   "execution_count": null,
   "metadata": {},
   "outputs": [],
   "source": [
    "# Your code here\n",
    "tup = ('I')"
   ]
  },
  {
   "cell_type": "markdown",
   "metadata": {},
   "source": [
    "#### Print the type of `tup`. \n",
    "\n",
    "Make sure its type is correct (i.e. *tuple* instead of *str*)."
   ]
  },
  {
   "cell_type": "code",
   "execution_count": 11,
   "metadata": {},
   "outputs": [
    {
     "data": {
      "text/plain": [
       "'I'"
      ]
     },
     "execution_count": 11,
     "metadata": {},
     "output_type": "execute_result"
    }
   ],
   "source": [
    "# Your code here\n",
    "tup[0]"
   ]
  },
  {
   "cell_type": "markdown",
   "metadata": {},
   "source": [
    "#### Now try to append the following elements to `tup`. \n",
    "\n",
    "Are you able to do it? Explain.\n",
    "\n",
    "```\n",
    "\"r\", \"o\", \"n\", \"h\", \"a\", \"c\", \"k',\n",
    "```"
   ]
  },
  {
   "cell_type": "code",
   "execution_count": 23,
   "metadata": {},
   "outputs": [
    {
     "name": "stdout",
     "output_type": "stream",
     "text": [
      "['I', 'r', 'o', 'n', 'h', 'a', 'c', 'k']\n"
     ]
    }
   ],
   "source": [
    "# Your code here\n",
    "tup = (\"I\")\n",
    "tupple = list(tup)\n",
    "tupple.append(\"r\")\n",
    "tupple.append(\"o\")\n",
    "tupple.append(\"n\")\n",
    "tupple.append(\"h\")\n",
    "tupple.append(\"a\")\n",
    "tupple.append(\"c\")\n",
    "tupple.append(\"k\")\n",
    "print (tupple)\n",
    "# Your explanation here\n",
    "# append sólo nos permite agregar un elemento por cada iteración, por lo que tuve que realizar una iteración por letra para agregarlas todas al final de la tupla tup"
   ]
  },
  {
   "cell_type": "markdown",
   "metadata": {},
   "source": [
    "#### How about re-assign a new value to an existing tuple?\n",
    "\n",
    "Re-assign the following elements to `tup`. Are you able to do it? Explain.\n",
    "\n",
    "```\n",
    "\"I\", \"r\", \"o\", \"n\", \"h\", \"a\", \"c\", \"k\"\n",
    "```"
   ]
  },
  {
   "cell_type": "code",
   "execution_count": 25,
   "metadata": {},
   "outputs": [
    {
     "name": "stdout",
     "output_type": "stream",
     "text": [
      "I r o n h a c k\n"
     ]
    }
   ],
   "source": [
    "# Your code here\n",
    "tup = (\"I\")\n",
    "tupple0 = tup.replace(\"I\",\"I\")\n",
    "tupple = tup.replace(\"I\",\"r\")\n",
    "tupple1 = tup.replace(\"I\",\"o\")\n",
    "tupple2 = tup.replace(\"I\",\"n\")\n",
    "tupple3 = tup.replace(\"I\",\"h\")\n",
    "tupple4 = tup.replace(\"I\",\"a\")\n",
    "tupple5 = tup.replace(\"I\",\"c\")\n",
    "tupple6 = tup.replace(\"I\",\"k\")\n",
    "print (tupple0, tupple, tupple1, tupple2, tupple3, tupple4, tupple5, tupple6)\n",
    "\n",
    "# Your explanation here\n",
    "#la función replace me permite remplazar un valor de la tupla por otro. Por esta razón, remplace el valor de tup por cada letra"
   ]
  },
  {
   "cell_type": "markdown",
   "metadata": {},
   "source": [
    "#### Split `tup` into `tup1` and `tup2` with 4 elements in each. \n",
    "\n",
    "`tup1` should be `(\"I\", \"r\", \"o\", \"n\")` and `tup2` should be `(\"h\", \"a\", \"c\", \"k\")`.\n",
    "\n",
    "*Hint: use positive index numbers for `tup1` assignment and use negative index numbers for `tup2` assignment. Positive index numbers count from the beginning whereas negative index numbers count from the end of the sequence.*\n",
    "\n",
    "Also print `tup1` and `tup2`."
   ]
  },
  {
   "cell_type": "code",
   "execution_count": 29,
   "metadata": {},
   "outputs": [
    {
     "name": "stdout",
     "output_type": "stream",
     "text": [
      "['I', 'r', 'o', 'n']\n",
      "['h', 'a', 'c', 'k']\n"
     ]
    }
   ],
   "source": [
    "tup = (\"I\", \"r\", \"o\", \"n\", \"h\", \"a\", \"c\", \"k\")\n",
    "tup1 = []\n",
    "tup2 = []\n",
    "for i in tup:\n",
    "    if tup[0]:\n",
    "        tup1.append(tup[0])\n",
    "    if tup[1]:\n",
    "        tup1.append(tup[1])\n",
    "    if tup[2]:\n",
    "        tup1.append(tup[2])\n",
    "    if tup[3]:\n",
    "        tup1.append(tup[3])\n",
    "    if tup[-4]:\n",
    "        tup2.append(tup[-4])\n",
    "    if tup[-3]:\n",
    "        tup2.append(tup[-3])\n",
    "    if tup[-2]:\n",
    "        tup2.append(tup[-2])\n",
    "    if tup[-1]:\n",
    "        tup2.append(tup[-1])\n",
    "        break\n",
    "\n",
    "print (tup1)\n",
    "print (tup2)\n"
   ]
  },
  {
   "cell_type": "markdown",
   "metadata": {},
   "source": [
    "#### Add `tup1` and `tup2` into `tup3` using the `+` operator.\n",
    "\n",
    "Then print `tup3` and check if `tup3` equals to `tup`."
   ]
  },
  {
   "cell_type": "code",
   "execution_count": 32,
   "metadata": {},
   "outputs": [
    {
     "name": "stdout",
     "output_type": "stream",
     "text": [
      "('I', 'r', 'o', 'n', 'h', 'a', 'c', 'k')\n"
     ]
    },
    {
     "data": {
      "text/plain": [
       "True"
      ]
     },
     "execution_count": 32,
     "metadata": {},
     "output_type": "execute_result"
    }
   ],
   "source": [
    "tup = (\"I\", \"r\", \"o\", \"n\", \"h\", \"a\", \"c\", \"k\")\n",
    "tup1 = ('I', 'r', 'o', 'n')\n",
    "tup2 = ('h', 'a', 'c', 'k')\n",
    "        \n",
    "tup3 = tup1 + tup2\n",
    "print (tup3)\n",
    "tup3 == tup"
   ]
  },
  {
   "cell_type": "markdown",
   "metadata": {},
   "source": [
    "#### Count the number of elements in `tup1` and `tup2`. Then add the two counts together and check if the sum is the same as the number of elements in `tup3`"
   ]
  },
  {
   "cell_type": "code",
   "execution_count": 34,
   "metadata": {},
   "outputs": [
    {
     "name": "stdout",
     "output_type": "stream",
     "text": [
      "8\n"
     ]
    },
    {
     "data": {
      "text/plain": [
       "True"
      ]
     },
     "execution_count": 34,
     "metadata": {},
     "output_type": "execute_result"
    }
   ],
   "source": [
    "tup1 = ('I', 'r', 'o', 'n')\n",
    "tup2 = ('h', 'a', 'c', 'k')\n",
    "tup3 = (\"I\", \"r\", \"o\", \"n\", \"h\", \"a\", \"c\", \"k\")\n",
    "\n",
    "len_tup1_tup2 = len(tup1) + len(tup2)\n",
    "print (len_tup1_tup2)\n",
    "len_tup1_tup2 == len(tup3)"
   ]
  },
  {
   "cell_type": "markdown",
   "metadata": {},
   "source": [
    "#### What is the index number of `\"h\"` in `tup3`?"
   ]
  },
  {
   "cell_type": "code",
   "execution_count": 36,
   "metadata": {},
   "outputs": [
    {
     "data": {
      "text/plain": [
       "4"
      ]
     },
     "execution_count": 36,
     "metadata": {},
     "output_type": "execute_result"
    }
   ],
   "source": [
    "tup3 = (\"I\", \"r\", \"o\", \"n\", \"h\", \"a\", \"c\", \"k\")\n",
    "tup3.index(\"h\")"
   ]
  },
  {
   "cell_type": "markdown",
   "metadata": {},
   "source": [
    "#### Now, use a FOR loop to check whether each letter in the following list is present in `tup3`:\n",
    "\n",
    "```\n",
    "letters = [\"a\", \"b\", \"c\", \"d\", \"e\"]\n",
    "```\n",
    "\n",
    "For each letter you check, print `True` if it is present in `tup3` otherwise print `False`.\n",
    "\n",
    "*Hint: you only need to loop `letters`. You don't need to loop `tup3` because there is a Python operator `in` you can use. See [reference](https://stackoverflow.com/questions/17920147/how-to-check-if-a-tuple-contains-an-element-in-python).*"
   ]
  },
  {
   "cell_type": "code",
   "execution_count": 40,
   "metadata": {},
   "outputs": [
    {
     "name": "stdout",
     "output_type": "stream",
     "text": [
      "True\n",
      "False\n",
      "True\n",
      "False\n",
      "False\n"
     ]
    }
   ],
   "source": [
    "letters = [\"a\", \"b\", \"c\", \"d\", \"e\"]\n",
    "tup3 = (\"I\", \"r\", \"o\", \"n\", \"h\", \"a\", \"c\", \"k\")\n",
    "\n",
    "for letters in tup3:\n",
    "    if \"a\" in tup3:\n",
    "        print(\"True\")\n",
    "    if \"a\" not in tup3:\n",
    "        print (\"False\")\n",
    "    if \"b\" in tup3:\n",
    "        print(\"True\")\n",
    "    if \"b\" not in tup3:\n",
    "        print (\"False\")\n",
    "    if \"c\" in tup3:\n",
    "        print(\"True\")\n",
    "    if \"c\" not in tup3:\n",
    "        print (\"False\")\n",
    "    if \"d\" in tup3:\n",
    "        print(\"True\")\n",
    "    if \"d\" not in tup3:\n",
    "        print (\"False\")\n",
    "    if \"e\" in tup3:\n",
    "        print(\"True\")\n",
    "    if \"e\" not in tup3:\n",
    "        print (\"False\")\n",
    "        break"
   ]
  },
  {
   "cell_type": "markdown",
   "metadata": {},
   "source": [
    "#### How many times does each letter in `letters` appear in `tup3`?\n",
    "\n",
    "Print out the number of occurrence of each letter."
   ]
  },
  {
   "cell_type": "code",
   "execution_count": 46,
   "metadata": {},
   "outputs": [
    {
     "name": "stdout",
     "output_type": "stream",
     "text": [
      "1\n"
     ]
    }
   ],
   "source": [
    "letters = [\"a\", \"b\", \"c\", \"d\", \"e\"]\n",
    "tup3 = (\"I\", \"r\", \"o\", \"n\", \"h\", \"a\", \"c\", \"k\")\n",
    "number_of_ocurrence =[0]\n",
    "\n",
    "for letters in tup3:\n",
    "    if \"a\" in tup3:\n",
    "        number_of_ocurrence =+ 1\n",
    "    if \"b\" in tup3:\n",
    "        number_of_ocurrence =+ 1\n",
    "    if \"c\" in tup3:\n",
    "        number_of_ocurrence =+ 1\n",
    "    if \"d\" in tup3:\n",
    "        number_of_ocurrence =+ 1\n",
    "    if \"e\" in tup3:\n",
    "        number_of_ocurrence =+ 1\n",
    "        \n",
    "print (number_of_ocurrence)"
   ]
  },
  {
   "cell_type": "code",
   "execution_count": 47,
   "metadata": {
    "scrolled": true
   },
   "outputs": [
    {
     "name": "stdout",
     "output_type": "stream",
     "text": [
      "1\n"
     ]
    }
   ],
   "source": []
  },
  {
   "cell_type": "code",
   "execution_count": null,
   "metadata": {},
   "outputs": [],
   "source": []
  }
 ],
 "metadata": {
  "kernelspec": {
   "display_name": "Python 3",
   "language": "python",
   "name": "python3"
  },
  "language_info": {
   "codemirror_mode": {
    "name": "ipython",
    "version": 3
   },
   "file_extension": ".py",
   "mimetype": "text/x-python",
   "name": "python",
   "nbconvert_exporter": "python",
   "pygments_lexer": "ipython3",
   "version": "3.7.6"
  }
 },
 "nbformat": 4,
 "nbformat_minor": 2
}
